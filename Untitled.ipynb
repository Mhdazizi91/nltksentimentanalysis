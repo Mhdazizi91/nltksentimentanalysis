{
 "cells": [
  {
   "cell_type": "code",
   "execution_count": null,
   "metadata": {},
   "outputs": [],
   "source": [
    "import nltk\n",
    "import random\n",
    "import pickle\n",
    "from nltk.classify.scikitlearn import SklearnClassifier\n",
    "from sklearn.naive_bayes import MultinomialNB, BernoulliNB\n",
    "from sklearn.linear_model import LogisticRegression, SGDClassifier\n",
    "from sklearn.svm import SVC, LinearSVC, NuSvc\n",
    "from nltk.classify import ClassifierI\n",
    "from statistics import mode\n",
    "from nltk.tokenize import word_tokenize"
   ]
  },
  {
   "cell_type": "code",
   "execution_count": null,
   "metadata": {},
   "outputs": [],
   "source": [
    "class voteclassifier(ClassifierI):\n",
    "    def __init__(self, *classifiers):\n",
    "        self._classifiers = classifiers\n",
    "    def classify(self, features):\n",
    "        votes = []\n",
    "        for c in self._classifiers:\n",
    "            v = c.classify(features)\n",
    "            votes.append(v)\n",
    "        return mode(votes)\n",
    "    def confidence(self, features):\n",
    "        votes = []\n",
    "        for c in self._classifiers:\n",
    "            v = c.classify(features)\n",
    "            votes.append(v)\n",
    "        choice_votes = votes.count(mode(votes))\n",
    "        conf = choice_votes / len(votes)\n",
    "        return conf"
   ]
  },
  {
   "cell_type": "code",
   "execution_count": null,
   "metadata": {},
   "outputs": [],
   "source": [
    "pos = open(\"positive.txt\", 'r').read()\n",
    "neg = open(\"negative.txt\", \"r\").read()\n"
   ]
  },
  {
   "cell_type": "code",
   "execution_count": null,
   "metadata": {},
   "outputs": [],
   "source": [
    "all_words = []\n",
    "documents = []\n"
   ]
  },
  {
   "cell_type": "code",
   "execution_count": null,
   "metadata": {},
   "outputs": [],
   "source": [
    "# J is adjective, r is adverb, v is verb\n",
    "# allowed_words_type = [\"J\",\"R\",\"V\"]\n",
    "allowed_word_types = [\"J\"]\n",
    "\n",
    "for r in pos.split('\\n'):\n",
    "    documents.append((r,'pos'))\n",
    "    words = word_tokenize(p)\n",
    "    pos = nltk.pos_tag(words)\n",
    "    for w in pos:\n",
    "        if w[1][0] in alowed_word_types:\n",
    "            all_words.append(w[0].lower())\n",
    "            \n",
    "for r in neg.split('\\n'):\n",
    "    documents.append((r,'neg'))\n",
    "    words = word_tokenize(p)\n",
    "    pos = nltk.pos_tag(words)\n",
    "    for w in pos:\n",
    "        if w[1][0] in alowed_word_types:\n",
    "            all_words.append(w[0].lower())"
   ]
  },
  {
   "cell_type": "code",
   "execution_count": null,
   "metadata": {},
   "outputs": [],
   "source": [
    "save_documents = open(\"pickle_algos/documents.pickle\",\"wb\")\n",
    "pickle.dump(documents, save_documents)\n",
    "save_documents.close()\n",
    "\n",
    "all_words = nltk.FreqDist(all_words)\n",
    "word_features = list(all_words.keys())[:5000]\n",
    "\n",
    "save_word_features = open(\"pickle_algos/word_features.pickle\",\"wb\")\n",
    "pickle.dump(word_features, save_word_features)\n",
    "save_documents.close()\n"
   ]
  },
  {
   "cell_type": "code",
   "execution_count": null,
   "metadata": {},
   "outputs": [],
   "source": [
    "def find_features(document):\n",
    "    words = word_tokenize(document)\n",
    "    features = {}\n",
    "    for w in word_features:\n",
    "        features[w]= (w in words)\n",
    "    return features"
   ]
  },
  {
   "cell_type": "code",
   "execution_count": null,
   "metadata": {},
   "outputs": [],
   "source": [
    "featuresets = [(find_features(rev), category) for (rev,category) in documents]\n",
    "random.shuffle(featuresets)\n",
    "train_set = featuresets[:10000]   # first 1000 are neg and sec 1000 are pos\n",
    "test_set = featuresets[10000:]"
   ]
  },
  {
   "cell_type": "code",
   "execution_count": null,
   "metadata": {},
   "outputs": [],
   "source": [
    "classifier = nltk.NaiveBayesClassifier.train(train_set)\n",
    "print(\"NB accuracy:\", (nltk.classify.accuracy(classifier, test_set))*100)\n",
    "classifier.show_most_informative_features(15)\n",
    "\n",
    "save_classifier = open(\"pickle_algos/nb.pickle\",\"wb\")\n",
    "pickle.dump(classifier, save_classifier)\n",
    "save_documents.close()"
   ]
  },
  {
   "cell_type": "code",
   "execution_count": null,
   "metadata": {},
   "outputs": [],
   "source": [
    "MNB_classifier = SklearnClassifier(MultinomialNB)\n",
    "MNB_classifier.train(train_set)\n",
    "print(\"MNB accuracy:\", (nltk.classify.accuracy(MNB_classifier, test_set))*100)\n",
    "\n",
    "save_classifier = open(\"pickle_algos/MNB.pickle\",\"wb\")\n",
    "pickle.dump(MNB_classifier, save_classifier)\n",
    "save_classifier.close()\n",
    "\n",
    "b_classifier = SklearnClassifier(BernoulliNB())\n",
    "b_classifier.train(train_set)\n",
    "print(\"b accuracy:\", (nltk.classify.accuracy(b_classifier, test_set))*100)\n",
    "\n",
    "save_classifier = open(\"pickle_algos/bernoulli.pickle\",\"wb\")\n",
    "pickle.dump(b_classifier, save_classifier)\n",
    "save_classifier.close()\n",
    "\n",
    "LR_classifier = SklearnClassifier(LogisticRegression())\n",
    "LR_classifier.train(train_set)\n",
    "print(\"LR accuracy:\", (nltk.classify.accuracy(LR_classifier, test_set))*100)\n",
    "\n",
    "save_classifier = open(\"pickle_algos/logisticregression.pickle\",\"wb\")\n",
    "pickle.dump(LR_classifier, save_classifier)\n",
    "save_classifier.close()\n",
    "\n",
    "\n",
    "linearsvc_classifier = SklearnClassifier(LinearSVC())\n",
    "linearsvc_classifier.train(train_set)\n",
    "print(\"linear svc accuracy:\", (nltk.classify.accuracy(linearsvc_classifier, test_set))*100)\n",
    "\n",
    "save_classifier = open(\"pickle_algos/linear_svc.pickle\",\"wb\")\n",
    "pickle.dump(linearsvc_classifier, save_classifier)\n",
    "save_classifier.close()\n",
    "\n",
    "SGDC_classifier = SklearnClassifier(SGDClassifier())\n",
    "SGDC_classifier.train(train_set)\n",
    "print(\"SGDC accuracy:\", (nltk.classify.accuracy(SGDC_classifier, test_set))*100)\n",
    "\n",
    "save_classifier = open(\"pickle_algos/SGDC.pickle\",\"wb\")\n",
    "pickle.dump(classifier, save_classifier)\n",
    "save_classsifier.close()"
   ]
  },
  {
   "cell_type": "code",
   "execution_count": null,
   "metadata": {},
   "outputs": [],
   "source": [
    "voted_classifier = voteclassifier(classifier,\n",
    "                                  b_classifier,\n",
    "                                  MNB_classifier,\n",
    "                                  linearsvc_classifier,\n",
    "                                  LR_classifier,\n",
    "                                  SGDC_classifier)\n",
    "print(\"voted accuracy:\", (nltk.classify.accuracy(voted_classifier, test_set))*100)"
   ]
  },
  {
   "cell_type": "code",
   "execution_count": null,
   "metadata": {},
   "outputs": [],
   "source": [
    "def sentiment(text):\n",
    "    feats = find_features(text)\n",
    "    return voted_classifier.classify(feats), voted_classifier.confidence(feats)"
   ]
  },
  {
   "cell_type": "code",
   "execution_count": null,
   "metadata": {},
   "outputs": [],
   "source": [
    "documents_f = open(\"pickle_algos/documents.pickle\",\"rb\")\n",
    "documents = pickle.load(documents_f)\n",
    "documents_f.close()\n",
    "\n",
    "word_feature_f = open(\"pickle_algos/word_features.pickle\",\"rb\")\n",
    "word_feature = pickle.load(word_feature_f)\n",
    "word_feature_f.close()\n",
    "\n"
   ]
  }
 ],
 "metadata": {
  "kernelspec": {
   "display_name": "Python 3",
   "language": "python",
   "name": "python3"
  },
  "language_info": {
   "codemirror_mode": {
    "name": "ipython",
    "version": 3
   },
   "file_extension": ".py",
   "mimetype": "text/x-python",
   "name": "python",
   "nbconvert_exporter": "python",
   "pygments_lexer": "ipython3",
   "version": "3.7.3"
  }
 },
 "nbformat": 4,
 "nbformat_minor": 2
}
